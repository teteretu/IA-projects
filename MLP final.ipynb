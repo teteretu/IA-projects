{
 "cells": [
  {
   "cell_type": "markdown",
   "metadata": {},
   "source": [
    "# MLP"
   ]
  },
  {
   "cell_type": "code",
   "execution_count": 10,
   "metadata": {},
   "outputs": [],
   "source": [
    "import matplotlib.pyplot as plt\n",
    "from sklearn import metrics, model_selection\n",
    "from sklearn.feature_extraction.text import CountVectorizer\n",
    "from sklearn.neural_network import MLPClassifier\n",
    "from sklearn.preprocessing import MinMaxScaler\n",
    "import nltk\n",
    "import re\n",
    "import pandas as pd\n",
    "\n",
    "params = [{'solver': 'sgd', 'learning_rate': 'constant', 'learning_rate_init': 0.01, 'hidden_layer_sizes':(100,)},\n",
    "          {'solver': 'sgd', 'learning_rate': 'constant', 'learning_rate_init': 0.25, 'hidden_layer_sizes':(50,)}]\n",
    "\n",
    "labels = [\"constant learning-rate 0.01\", \n",
    "                \"constant learning-rate 0.25\"]\n"
   ]
  },
  {
   "cell_type": "markdown",
   "metadata": {},
   "source": [
    "# construção do modelo mlp"
   ]
  },
  {
   "cell_type": "code",
   "execution_count": 50,
   "metadata": {},
   "outputs": [
    {
     "name": "stdout",
     "output_type": "stream",
     "text": [
      "\n",
      "learning on dataset  twitter\n",
      "  (0, 9089)\t1\n",
      "  (0, 21409)\t1\n",
      "  (0, 25641)\t1\n",
      "  (0, 38460)\t1\n",
      "  (0, 20506)\t1\n",
      "  (0, 3093)\t1\n",
      "  (0, 34703)\t1\n",
      "  (0, 14483)\t1\n",
      "  (0, 5763)\t1\n",
      "  (0, 23027)\t1\n",
      "  (0, 6281)\t1\n",
      "  (0, 21408)\t1\n",
      "  (0, 25495)\t1\n",
      "  (0, 38449)\t1\n",
      "  (0, 20464)\t1\n",
      "  (0, 3092)\t1\n",
      "  (0, 34702)\t1\n",
      "  (0, 13923)\t1\n",
      "  (0, 5762)\t1\n",
      "  (1, 7421)\t1\n",
      "  (1, 20064)\t1\n",
      "  (1, 26095)\t1\n",
      "  (1, 38461)\t1\n",
      "  (1, 4201)\t1\n",
      "  (1, 20005)\t1\n",
      "  :\t:\n",
      "  (8198, 37317)\t1\n",
      "  (8198, 14054)\t1\n",
      "  (8198, 5607)\t1\n",
      "  (8198, 32784)\t1\n",
      "  (8198, 33086)\t1\n",
      "  (8198, 32783)\t1\n",
      "  (8198, 37313)\t1\n",
      "  (8198, 14473)\t1\n",
      "  (8198, 33846)\t1\n",
      "  (8198, 31223)\t1\n",
      "  (8198, 36102)\t1\n",
      "  (8198, 36100)\t1\n",
      "  (8198, 34693)\t1\n",
      "  (8198, 16922)\t1\n",
      "  (8198, 34690)\t1\n",
      "  (8198, 24457)\t1\n",
      "  (8198, 31217)\t1\n",
      "  (8198, 33836)\t1\n",
      "  (8198, 16666)\t1\n",
      "  (8198, 21409)\t1\n",
      "  (8198, 25641)\t1\n",
      "  (8198, 6281)\t1\n",
      "  (8198, 21408)\t1\n",
      "  (8198, 25495)\t1\n",
      "  (8198, 13923)\t2\n",
      "[<5739x40602 sparse matrix of type '<class 'numpy.int64'>'\n",
      "\twith 178975 stored elements in Compressed Sparse Row format>, <2460x40602 sparse matrix of type '<class 'numpy.int64'>'\n",
      "\twith 76765 stored elements in Compressed Sparse Row format>, array(['Positivo', 'Positivo', 'Negativo', ..., 'Negativo', 'Neutro',\n",
      "       'Negativo'], dtype=object), array(['Neutro', 'Positivo', 'Positivo', ..., 'Positivo', 'Positivo',\n",
      "       'Positivo'], dtype=object)]\n"
     ]
    },
    {
     "data": {
      "image/png": "[encoded data removed]",
      "text/plain": [
       "<matplotlib.figure.Figure at 0x21333fbc400>"
      ]
     },
     "metadata": {},
     "output_type": "display_data"
    }
   ],
   "source": [
    "def plot_on_dataset(X, y, name, X_test, y_test):\n",
    "    \n",
    "    # scale inputs\n",
    "    X = MinMaxScaler().fit_transform(X)\n",
    "    \n",
    "    mlps = []\n",
    "    max_iter = 1000\n",
    "    \n",
    "    #train set\n",
    "    for label, param in zip(labels, params):\n",
    "        mlp = MLPClassifier(verbose=0, random_state=0,\n",
    "                            max_iter=max_iter, **param)\n",
    "        mlp.fit(X, y)\n",
    "        mlps.append(mlp)\n",
    "        \n",
    "        print(\"Training set score: %f\" % mlp.score(X, y))\n",
    "        print(\"Training set loss: %f\" % mlp.loss_)\n",
    "    # plot training stats\n",
    "    for mlp, label, args in zip(mlps, labels, plot_args):\n",
    "        plt.plot(mlp.loss_curve_, label=label, **args)\n",
    "\n",
    "        \n",
    "#reading dataset\n",
    "dataset = pd.read_csv('Tweets_Mg.csv',encoding='utf-8')\n",
    "tweets = dataset['Text'].values\n",
    "classes = dataset['Classificacao'].values\n",
    "vectorizer = CountVectorizer(ngram_range=(1,2))\n",
    "freq_tweets = vectorizer.fit_transform(tweets)\n",
    "\n",
    "data_sets = [\"twitter\",   freq_tweets,   classes]\n",
    "\n",
    "print(\"\\nlearning on dataset \", data_sets[0])\n",
    "print (freq_tweets)\n",
    "# split dataset\n",
    "X_train, X_test, y_train, y_test = model_selection.train_test_split(data_sets[1], data_sets[2], test_size=0.3, random_state=12345)\n",
    "print(model_selection.train_test_split(data_sets[1], data_sets[2], test_size=0.3, random_state=12345))\n",
    "plt.subplot(1, 2, 1)\n",
    "\n",
    "\n",
    "fig.legend( labels, ncol=3, loc=\"upper center\")\n",
    "plt.show()"
   ]
  },
  {
   "cell_type": "markdown",
   "metadata": {},
   "source": [
    "# média de accuracy como medidas de teste"
   ]
  },
  {
   "cell_type": "code",
   "execution_count": null,
   "metadata": {},
   "outputs": [],
   "source": [
    "resultados = cross_val_predict(modelo, freq_tweets, classes, cv=10)\n",
    "metrics.accuracy_score(classes,resultados)\n",
    "\n",
    "sentimento=['Positivo','Negativo','Neutro']\n",
    "print (metrics.classification_report(classes,resultados,sentimento))"
   ]
  }
 ],
 "metadata": {
  "kernelspec": {
   "display_name": "Python 3",
   "language": "python",
   "name": "python3"
  },
  "language_info": {
   "codemirror_mode": {
    "name": "ipython",
    "version": 3
   },
   "file_extension": ".py",
   "mimetype": "text/x-python",
   "name": "python",
   "nbconvert_exporter": "python",
   "pygments_lexer": "ipython3",
   "version": "3.6.3"
  }
 },
 "nbformat": 4,
 "nbformat_minor": 2
}
